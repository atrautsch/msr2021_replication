{
 "cells": [
  {
   "cell_type": "code",
   "execution_count": null,
   "metadata": {},
   "outputs": [],
   "source": [
    "import pandas as pd"
   ]
  },
  {
   "cell_type": "markdown",
   "metadata": {},
   "source": [
    "before re-classification we loaded the mauczka data into a mysql database like so\n",
    "from that we create a dataframe (perfective = internal_quality, corrective = external_quality)\n",
    "\n",
    "```python\n",
    "import MySQLdb\n",
    "import MySQLdb.cursors\n",
    "db = MySQLdb.connect(user='root', passwd='balla', db='msrsurvey', cursorclass=MySQLdb.cursors.DictCursor)\n",
    "\n",
    "c=db.cursor()\n",
    "c.execute(\"\"\"SELECT sr.sw_adaptive, sr.sw_corrective, sr.sw_perfective, c.title, p.home, c.identifier from SurveyResults as sr, Commits as c, Projects as p WHERE c.id = sr.id AND c.project = p.id\"\"\")\n",
    "\n",
    "dat = []\n",
    "for row in c:\n",
    "    dat.append({'project_url': row['home'], 'revision_hash': row['identifier'], 'message': row['title'], 'internal_quality': row['sw_perfective'] == 1, 'external_quality': row['sw_corrective'] == 1, 'sw_adaptive': row['sw_adaptive'] == 1})\n",
    "\n",
    "\n",
    "df = pd.DataFrame(dat)\n",
    "\n",
    "# map urls to names\n",
    "map_urls = {'http://valadoc.org': 'vala-doc',\n",
    "            'https://wiki.gnome.org/Projects/Vala': 'vala',\n",
    "            'https://www.drupal.org/project/search_api': 'drupal-search-api',\n",
    "            'https://code.google.com/a/eclipselabs.org/p/tapiji/': 'tapiji',\n",
    "            'https://projects.eclipse.org/projects/mylyn.reviews': 'mylyn-reviews',\n",
    "            'https://deltaspike.apache.org/': 'deltaspike'}\n",
    "df['project'] = df['project_url'].map(map_urls)\n",
    "\n",
    "# retain only java projects\n",
    "df = df[~df['project'].isin(['vala-doc', 'vala', 'drupal-search-api'])].copy()\n",
    "\n",
    "df.to_csv('../data/mauczka_label.csv', index=False)\n",
    "```"
   ]
  },
  {
   "cell_type": "code",
   "execution_count": null,
   "metadata": {},
   "outputs": [],
   "source": [
    "# load data\n",
    "df = pd.read_csv('../data/mauczka_label.csv')"
   ]
  },
  {
   "cell_type": "code",
   "execution_count": null,
   "metadata": {},
   "outputs": [],
   "source": [
    "# create re-label UI\n",
    "# this needs ipywidgets which may require additional steps for jupyter lab\n",
    "\n",
    "from IPython.display import display, Markdown, clear_output\n",
    "from ipywidgets import Layout\n",
    "import ipywidgets as widgets\n",
    "\n",
    "# create ui\n",
    "project = widgets.Text(\n",
    "       value='',\n",
    "       description='Project',\n",
    "        layout=Layout( width='auto'))\n",
    "revision = widgets.Text(\n",
    "       value='',\n",
    "       description='Revision hash',\n",
    "        layout=Layout( width='auto'))\n",
    "text = widgets.Textarea(\n",
    "       value='',\n",
    "       description='Commit message',\n",
    "        layout=Layout( width='auto', height='250px'))\n",
    "label_internal_quality = widgets.Checkbox(\n",
    "       description='Perfective?',)\n",
    "label_external_quality = widgets.Checkbox(\n",
    "       description='Corrective?',)\n",
    "button = widgets.Button(description='Set label')\n",
    "\n",
    "progress = widgets.HTML(value='', description='Progress')\n",
    "link = widgets.HTML(value='', description='Revision')\n",
    "\n",
    "def load_next():\n",
    "    \"\"\"Sample from unlabeled messages in the sample, change values on ui elements.\"\"\"\n",
    "\n",
    "    sample = df[df['has_label'] == False].sample(n=1)\n",
    "\n",
    "    project.value = sample['project'].values[0]\n",
    "    revision.value = sample['revision_hash'].values[0]\n",
    "    text.value = sample['message'].values[0]\n",
    "\n",
    "    progress.value = '{}/{}'.format(len(df[df['has_label'] == True]), len(df))\n",
    "    owner = 'apache'\n",
    "    repo = project.value\n",
    "    if project.value == 'tapiji':\n",
    "        owner = 'tapiji'\n",
    "    if project.value == 'mylyn-reviews':\n",
    "        owner = 'eclipse'\n",
    "        repo = 'mylyn.reviews'\n",
    "    link.value = '<a href=\"https://github.com/{}/{}/commit/{}\" target=\"_blank\">{}</a>'.format(owner, repo, revision.value, revision.value)\n",
    "\n",
    "    label_internal_quality.value = False\n",
    "    label_external_quality.value = False\n",
    "\n",
    "def set_label(button):\n",
    "    \"\"\"Set label after click and then load next.\"\"\"\n",
    "    df.loc[df['revision_hash'] == revision.value, 'label_internal_quality'] = label_internal_quality.value\n",
    "    df.loc[df['revision_hash'] == revision.value, 'label_external_quality'] = label_external_quality.value\n",
    "    df.loc[df['revision_hash'] == revision.value, 'has_label'] = True\n",
    "    load_next()\n",
    "\n",
    "load_next()  # init\n",
    "button.on_click(set_label)\n",
    "\n",
    "label_box = widgets.HBox([label_internal_quality, label_external_quality])\n",
    "box = widgets.VBox([progress, project, link, text, label_box, button], layout={'display': 'flex', 'flex_flow': 'column', 'align_items': 'stretch'})\n",
    "\n",
    "# show it\n",
    "display(box)"
   ]
  },
  {
   "cell_type": "code",
   "execution_count": null,
   "metadata": {},
   "outputs": [],
   "source": [
    "# safe data\n",
    "df.write_csv('../data/mauczka_label_finished.csv', index=False)"
   ]
  }
 ],
 "metadata": {
  "kernelspec": {
   "display_name": "Python 3",
   "language": "python",
   "name": "python3"
  },
  "language_info": {
   "codemirror_mode": {
    "name": "ipython",
    "version": 3
   },
   "file_extension": ".py",
   "mimetype": "text/x-python",
   "name": "python",
   "nbconvert_exporter": "python",
   "pygments_lexer": "ipython3",
   "version": "3.9.1"
  }
 },
 "nbformat": 4,
 "nbformat_minor": 4
}
