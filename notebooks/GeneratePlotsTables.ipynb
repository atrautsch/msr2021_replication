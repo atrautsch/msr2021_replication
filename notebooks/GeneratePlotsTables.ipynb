{
 "cells": [
  {
   "cell_type": "code",
   "execution_count": 2,
   "metadata": {},
   "outputs": [],
   "source": [
    "%matplotlib inline\n",
    "\n",
    "import math\n",
    "\n",
    "import numpy as np\n",
    "import pandas as pd\n",
    "import matplotlib.pyplot as plt\n",
    "from matplotlib.ticker import FormatStrFormatter\n",
    "\n",
    "from scipy import stats\n",
    "\n",
    "FIGURE_PATH = '../figures/'\n",
    "DATA_PATHZ = '../data/'\n",
    "\n",
    "THRESH = 0.00046  # bonferroni correction"
   ]
  },
  {
   "cell_type": "code",
   "execution_count": 9,
   "metadata": {},
   "outputs": [],
   "source": [
    "def ll_values(values):\n",
    "    signs = np.sign(values)\n",
    "    vals = np.log10(np.abs(values) + 1)\n",
    "    return vals * signs\n",
    "\n",
    "def cliffsd(u, n1, n2):\n",
    "    d = (2*u) / (n1 * n2) - 1\n",
    "    return abs(d)\n",
    "\n",
    "def cd_name(cd):\n",
    "    if cd < 0.1:\n",
    "        return 'n'\n",
    "    elif 0.1 <= cd < 0.33:\n",
    "        return 's'\n",
    "    elif 0.33 <= cd < 0.474:\n",
    "        return 'm'\n",
    "    elif 0.474 <= cd:\n",
    "        return 'l'\n",
    "\n",
    "def print_boxes_size(df, save=False):\n",
    "    names = {'lines_added': '#lines added',\n",
    "             'lines_deleted': '#lines deleted',\n",
    "             'num_files': '#files modified',\n",
    "             'num_hunks': '#hunks'}\n",
    "\n",
    "    for m in ['lines_added', 'lines_deleted', 'num_files', 'num_hunks']:\n",
    "        col = '{}'.format(m)\n",
    "\n",
    "        a = df[(df[col] != 0)][col].values\n",
    "        iq = df[(df[col] != 0) & (df['internal_quality'] == True)][col].values\n",
    "        eq = df[(df[col] != 0) & (df['external_quality'] == True)][col].values\n",
    "\n",
    "        if len(iq) < 3 or len(eq) < 3:\n",
    "            print('skipping', m)\n",
    "            continue\n",
    "\n",
    "        fig = plt.figure(figsize=(3, 2.3))\n",
    "        ax = fig.add_subplot(111)\n",
    "        bp = ax.boxplot([a, iq, eq], showfliers=False, positions=[1, 1.5, 2])\n",
    "\n",
    "        ax.set_xticklabels(['all', 'perf.', 'corr.'])\n",
    "        ax.set_ylabel('{}'.format(names[m]))\n",
    "\n",
    "        plt.tight_layout()\n",
    "        \n",
    "        if save:\n",
    "            plt.savefig('{}/boxplot_{}.pdf'.format(FIGURE_PATH, m))\n",
    "\n",
    "def print_boxes_metrics(df, density=False):\n",
    "\n",
    "    for m in ['McCC', 'LLOC', 'NLE', 'NUMPAR', 'CC', 'CLOC', 'CD', 'AD', 'NOA', 'CBO', 'NII', 'Minor', 'Major', 'Critical']:\n",
    "        col = 'delta_{}'.format(m)\n",
    "\n",
    "        a = ll_values(df[(df[col] != 0)][col].values)\n",
    "        quali = ll_values(df[(df[col] != 0) & (df['internal_quality'] == True)][col].values)\n",
    "        bugfix = ll_values(df[(df[col] != 0) & (df['external_quality'] == True)][col].values)\n",
    "\n",
    "        if density:\n",
    "            dcol = 'density_{}'.format(col)\n",
    "            df[dcol] = df[col] / (df['lines_added'] + df['lines_deleted'] + 1)\n",
    "\n",
    "            a = ll_values(df[(df[dcol] != 0)][dcol].values)\n",
    "            quali = ll_values(df[(df[dcol] != 0) & (df['internal_quality'] == True)][dcol].values)\n",
    "            bugfix = ll_values(df[(df[dcol] != 0) & (df['external_quality'] == True)][dcol].values)\n",
    "\n",
    "        fig = plt.figure(figsize=(3, 2.3))\n",
    "        ax = fig.add_subplot(111)\n",
    "        bp = ax.boxplot([a, quali, bugfix], showfliers=False, positions=[1, 1.5, 2])\n",
    "\n",
    "        ax.set_xticklabels(['all', 'perf.', 'corr.'])\n",
    "        ax.set_ylabel('log {} delta + 1'.format(m))\n",
    "        ax.yaxis.set_major_formatter(FormatStrFormatter('% 1.2f'))\n",
    "\n",
    "        plt.tight_layout()\n",
    "        if density:\n",
    "            m = '{}_density'.format(m)\n",
    "        plt.savefig('{}/boxplot_{}.pdf'.format(FIGURE_PATH, m))\n",
    "\n",
    "def print_tables_metrics(df, density=False, thresh=0.05):\n",
    "    tbl = ''\n",
    "\n",
    "    # alternative hypothesis for MWU, we expect these to be lower for all quality improving changes, therfore alternative is greater\n",
    "    greater = ['McCC', 'LLOC', 'NLE', 'NUMPAR', 'CC', 'NOA', 'CBO', 'NII', 'Minor', 'Major', 'Critical']\n",
    "\n",
    "    # we expect these to be greater, therefore alternative is lower\n",
    "    less = ['CLOC', 'CD', 'AD']\n",
    "\n",
    "    features = ['delta_{}'.format(m) for m in ['McCC', 'LLOC', 'NLE', 'NUMPAR', 'CC', 'CLOC', 'CD', 'AD', 'NOA', 'CBO', 'NII', 'Minor', 'Major', 'Critical']]\n",
    "    for f in features:\n",
    "        df['scaled_{}'.format(f)] = np.copy(df[f].values)\n",
    "        df['density_{}'.format(f)] = df[f] / (df['lines_added'] + df['lines_deleted'] + 1)\n",
    "\n",
    "    for m in ['McCC', 'LLOC', 'NLE', 'NUMPAR', 'CC', 'CLOC', 'CD', 'AD', 'NOA', 'CBO', 'NII', 'Minor', 'Major', 'Critical']:\n",
    "        col = 'delta_{}'.format(m)\n",
    "\n",
    "        quali = df[(df['internal_quality'] == True)][col].values\n",
    "        no_quali = df[(df['internal_quality'] == False)][col].values\n",
    "\n",
    "        bugfix = df[(df['external_quality'] == True)][col].values\n",
    "        no_bugfix = df[(df['external_quality'] == False)][col].values\n",
    "\n",
    "        if density:\n",
    "            quali = df[(df['internal_quality'] == True)]['density_' + col].values\n",
    "            no_quali = df[(df['internal_quality'] == False)]['density_' + col].values\n",
    "            \n",
    "            bugfix = df[(df['external_quality'] == True)]['density_' + col].values\n",
    "            no_bugfix = df[(df['external_quality'] == False)]['density_' + col].values\n",
    "\n",
    "        try:\n",
    "            alternative = 'greater'\n",
    "            if col in less:\n",
    "                alternative = 'less'\n",
    "\n",
    "            #print(col)\n",
    "            #print(stats.shapiro(quali))\n",
    "            #print(stats.shapiro(no_quali))\n",
    "            #print(stats.shapiro(bugfix))\n",
    "            #print(stats.shapiro(no_bugfix))\n",
    "            #print(stats.mannwhitneyu(no_quali, quali, alternative=alternative))\n",
    "            #print(stats.mannwhitneyu(no_bugfix, bugfix, alternative=alternative))\n",
    "            mwu, mwu_p = stats.mannwhitneyu(no_quali, quali, alternative=alternative)\n",
    "            qe = '-'\n",
    "            \n",
    "            p1 = '{:.4f}'.format(mwu_p)\n",
    "            cd1 = cliffsd(mwu, len(no_quali), len(quali))\n",
    "            s1 = cd_name(cd1)\n",
    "            if mwu_p < thresh:\n",
    "                qe = '{:.2f} ({})'.format(cd1, s1)\n",
    "                p1 = r'\\textbf{' + p1 + '}'\n",
    "\n",
    "            mwu2, mwu_p2 = stats.mannwhitneyu(no_bugfix, bugfix, alternative=alternative)            \n",
    "            bfe = '-'\n",
    "            \n",
    "            p2 = '{:.4f}'.format(mwu_p2)\n",
    "            cd2 = cliffsd(mwu2, len(no_bugfix), len(bugfix))\n",
    "            s2 = cd_name(cd2)\n",
    "            if mwu_p2 < thresh:\n",
    "                bfe = '{:.2f} ({})'.format(cd2, s2)\n",
    "                p2 = r'\\textbf{' + p2 + '}'\n",
    "\n",
    "            tbl += r'{} & {:.4f} & {} & {} & {:.4f} & {} & {}\\\\'.format(m, \n",
    "                                                                        np.median(no_quali) - np.median(quali), p1, qe, \n",
    "                                                                        np.median(no_bugfix) - np.median(bugfix), p2, bfe) + \"\\n\"\n",
    "        except ValueError as e:\n",
    "            print(e)\n",
    "            tbl += r'{} & '.format(m) + r'\\multicolumn{3}{c}{-}' + ' & ' + r'\\multicolumn{3}{c}{-}\\\\' + \"\\n\"\n",
    "            pass\n",
    "    print(tbl)\n",
    "\n",
    "def print_tables_size(df, thresh=0.05):\n",
    "    tbl = ''\n",
    "    names = {'lines_added': '\\#lines add',\n",
    "             'lines_deleted': '\\#lines del',\n",
    "             'num_files': '\\#files mod',\n",
    "             'num_hunks': '\\#hunks'}\n",
    "    for m in ['lines_added', 'lines_deleted', 'num_files', 'num_hunks']:\n",
    "        col = '{}'.format(m)\n",
    "\n",
    "        quali = df[(df['internal_quality'] == True)][col].values\n",
    "        no_quali = df[(df['internal_quality'] == False)][col].values\n",
    "        bugfix = df[(df['external_quality'] == True)][col].values\n",
    "        no_bugfix = df[(df['external_quality'] == False)][col].values\n",
    "\n",
    "        try:\n",
    "            #print(col)\n",
    "            #print(stats.shapiro(quali))\n",
    "            #print(stats.shapiro(bugfix))\n",
    "            #print(stats.mannwhitneyu(no_quali, quali, alternative='two-sided'))\n",
    "            #print(stats.mannwhitneyu(no_bugfix, bugfix, alternative='two-sided'))\n",
    "\n",
    "            #iqr_quali = stats.iqr(quali)\n",
    "            #iqr_no_quali = stats.iqr(no_quali)\n",
    "            mwu, mwu_p = stats.mannwhitneyu(no_quali, quali, alternative='two-sided')\n",
    "            qe = '-'\n",
    "            p1 = '{:.4f}'.format(mwu_p)\n",
    "            \n",
    "            cd1 = cliffsd(mwu, len(no_quali), len(quali))\n",
    "            s1 = cd_name(cd1)\n",
    "            if mwu_p < thresh:\n",
    "                qe = '{:.2f} ({})'.format(cd1, s1)\n",
    "                p1 = r'\\textbf{' + p1 + '}'\n",
    "            \n",
    "            mwu2, mwu_p2 = stats.mannwhitneyu(no_bugfix, bugfix, alternative='two-sided')\n",
    "            bfe = '-'\n",
    "            p2 = '{:.4f}'.format(mwu_p2)\n",
    "            \n",
    "            cd2 = cliffsd(mwu2, len(no_bugfix), len(bugfix))\n",
    "            s2 = cd_name(cd2)\n",
    "            if mwu_p2 < thresh:\n",
    "                bfe = '{:.2f} ({})'.format(cd2, s2)\n",
    "                p2 = r'\\textbf{' + p2 + '}'\n",
    "            \n",
    "            tbl += r'{} & {} & {} & {} & {} & {} & {}\\\\'.format(names[m], np.median(no_quali) - np.median(quali), p1, qe, np.median(no_bugfix) - np.median(bugfix), p2, bfe) + \"\\n\"\n",
    "        except ValueError as e:\n",
    "            print(e)\n",
    "            tbl += r'{} & '.format(m) + r'\\multicolumn{3}{c}{-}' + ' & ' + r'\\multicolumn{3}{c}{-}\\\\' + \"\\n\"\n",
    "            pass\n",
    "    print(tbl)\n",
    "\n",
    "def print_nz_table(df):\n",
    "    \"\"\"for each metric, number of non zero values, non zero perfective, non zero corrective\"\"\"\n",
    "    tbl = ''\n",
    "    for m in ['McCC', 'LLOC', 'NLE', 'NUMPAR', 'CC', 'CLOC', 'CD', 'AD', 'NOA', 'CBO', 'NII', 'Minor', 'Major', 'Critical']:\n",
    "        col = 'delta_{}'.format(m)\n",
    "\n",
    "        num = len(df)\n",
    "        num_nz = len(df[(df[col] != 0)])\n",
    "        \n",
    "        num_quali = len(df[(df['internal_quality'] == True)][col])\n",
    "        num_bugfix = len(df[(df['external_quality'] == True)][col])\n",
    "\n",
    "        num_nz_quali = len(df[(df[col] != 0) & (df['internal_quality'] == True)][col])\n",
    "        num_nz_bugfix = len(df[(df[col] != 0) & (df['external_quality'] == True)][col])\n",
    "        \n",
    "        tbl += r'{} & {:.2f} & {:.2f} & {:.2f}\\\\'.format(m, (num_nz * 100) / num, (num_nz_quali * 100) / num_quali, (num_nz_bugfix * 100) / num_bugfix) + \"\\n\"\n",
    "\n",
    "    print(tbl)"
   ]
  },
  {
   "cell_type": "code",
   "execution_count": 4,
   "metadata": {},
   "outputs": [],
   "source": [
    "df = pd.read_csv('../data/sample_metrics_size_consensus.csv')"
   ]
  },
  {
   "cell_type": "code",
   "execution_count": 27,
   "metadata": {},
   "outputs": [
    {
     "name": "stdout",
     "output_type": "stream",
     "text": [
      "McCC & 60.88 & 43.84 & 64.23\\\\\n",
      "LLOC & 74.14 & 62.23 & 77.37\\\\\n",
      "NLE & 38.65 & 26.13 & 34.74\\\\\n",
      "NUMPAR & 38.10 & 27.20 & 27.01\\\\\n",
      "CC & 51.32 & 41.88 & 54.01\\\\\n",
      "CLOC & 55.35 & 50.49 & 47.88\\\\\n",
      "CD & 80.58 & 74.56 & 81.46\\\\\n",
      "AD & 30.87 & 24.07 & 17.81\\\\\n",
      "NOA & 12.12 & 7.83 & 3.07\\\\\n",
      "CBO & 31.62 & 24.07 & 22.04\\\\\n",
      "NII & 43.15 & 31.12 & 38.69\\\\\n",
      "Minor & 3.95 & 3.52 & 1.17\\\\\n",
      "Major & 1.89 & 1.66 & 0.58\\\\\n",
      "Critical & 1.54 & 1.27 & 0.00\\\\\n",
      "\n"
     ]
    }
   ],
   "source": [
    "print_nz_table(df)"
   ]
  },
  {
   "cell_type": "code",
   "execution_count": 10,
   "metadata": {},
   "outputs": [
    {
     "name": "stdout",
     "output_type": "stream",
     "text": [
      "delta_McCC\n",
      "ShapiroResult(statistic=0.46287351846694946, pvalue=0.0)\n",
      "ShapiroResult(statistic=0.8340851664543152, pvalue=5.365430120599012e-37)\n",
      "ShapiroResult(statistic=0.7727837562561035, pvalue=9.950814338806826e-30)\n",
      "ShapiroResult(statistic=0.6440104246139526, pvalue=0.0)\n",
      "MannwhitneyuResult(statistic=1090074.5, pvalue=5.4040660564763716e-74)\n",
      "MannwhitneyuResult(statistic=546736.5, pvalue=0.9999999730394032)\n",
      "delta_LLOC\n",
      "ShapiroResult(statistic=0.670404314994812, pvalue=1.567184176531589e-40)\n",
      "ShapiroResult(statistic=0.9476688504219055, pvalue=9.339368433122251e-23)\n",
      "ShapiroResult(statistic=0.9190614223480225, pvalue=1.0913072403570287e-18)\n",
      "ShapiroResult(statistic=0.7986583709716797, pvalue=4.694349855488137e-43)\n",
      "MannwhitneyuResult(statistic=1090868.0, pvalue=3.180062227270925e-71)\n",
      "MannwhitneyuResult(statistic=545609.0, pvalue=0.9999999644341038)\n",
      "delta_NLE\n",
      "ShapiroResult(statistic=0.421244740486145, pvalue=0.0)\n",
      "ShapiroResult(statistic=0.5855681896209717, pvalue=0.0)\n",
      "ShapiroResult(statistic=0.517304539680481, pvalue=1.648100755055561e-39)\n",
      "ShapiroResult(statistic=0.5513904690742493, pvalue=0.0)\n",
      "MannwhitneyuResult(statistic=982780.5, pvalue=1.1245307629616834e-40)\n",
      "MannwhitneyuResult(statistic=613691.5, pvalue=0.9102815914818478)\n",
      "delta_NUMPAR\n",
      "ShapiroResult(statistic=0.4693572521209717, pvalue=0.0)\n",
      "ShapiroResult(statistic=0.5860019326210022, pvalue=0.0)\n",
      "ShapiroResult(statistic=0.5098215341567993, pvalue=1.004917371616649e-39)\n",
      "ShapiroResult(statistic=0.5758516788482666, pvalue=0.0)\n",
      "MannwhitneyuResult(statistic=972834.5, pvalue=2.1115440204570265e-37)\n",
      "MannwhitneyuResult(statistic=683503.0, pvalue=0.00019936122478228703)\n",
      "delta_CC\n",
      "ShapiroResult(statistic=0.20863157510757446, pvalue=0.0)\n",
      "ShapiroResult(statistic=0.1713760495185852, pvalue=0.0)\n",
      "ShapiroResult(statistic=0.145344078540802, pvalue=0.0)\n",
      "ShapiroResult(statistic=0.20001274347305298, pvalue=0.0)\n",
      "MannwhitneyuResult(statistic=730024.0, pvalue=0.9934041498123541)\n",
      "MannwhitneyuResult(statistic=700569.0, pvalue=5.468356620905957e-06)\n",
      "delta_CLOC\n",
      "ShapiroResult(statistic=0.4642651677131653, pvalue=0.0)\n",
      "ShapiroResult(statistic=0.6951541900634766, pvalue=0.0)\n",
      "ShapiroResult(statistic=0.6666878461837769, pvalue=1.6060217970814649e-34)\n",
      "ShapiroResult(statistic=0.488227903842926, pvalue=0.0)\n",
      "MannwhitneyuResult(statistic=929129.0, pvalue=4.137301329925226e-20)\n",
      "MannwhitneyuResult(statistic=644690.5, pvalue=0.2257356504286432)\n",
      "delta_CD\n",
      "ShapiroResult(statistic=0.5797132849693298, pvalue=4.203895392974451e-44)\n",
      "ShapiroResult(statistic=0.6102923154830933, pvalue=0.0)\n",
      "ShapiroResult(statistic=0.6623960733413696, pvalue=1.0945881970620588e-34)\n",
      "ShapiroResult(statistic=0.5892815589904785, pvalue=0.0)\n",
      "MannwhitneyuResult(statistic=840681.5, pvalue=6.930460861806305e-05)\n",
      "MannwhitneyuResult(statistic=718853.5, pvalue=6.671033011898343e-08)\n",
      "delta_AD\n",
      "ShapiroResult(statistic=0.16464179754257202, pvalue=0.0)\n",
      "ShapiroResult(statistic=0.33617234230041504, pvalue=0.0)\n",
      "ShapiroResult(statistic=0.20771050453186035, pvalue=0.0)\n",
      "ShapiroResult(statistic=0.21448713541030884, pvalue=0.0)\n",
      "MannwhitneyuResult(statistic=803318.0, pvalue=0.017382388916136055)\n",
      "MannwhitneyuResult(statistic=693526.0, pvalue=2.9736939692188767e-06)\n",
      "delta_NOA\n",
      "ShapiroResult(statistic=0.15255141258239746, pvalue=0.0)\n",
      "ShapiroResult(statistic=0.05452167987823486, pvalue=0.0)\n",
      "ShapiroResult(statistic=0.10845053195953369, pvalue=0.0)\n",
      "ShapiroResult(statistic=0.050008535385131836, pvalue=0.0)\n",
      "MannwhitneyuResult(statistic=853232.5, pvalue=1.1497518848222474e-15)\n",
      "MannwhitneyuResult(statistic=678737.0, pvalue=3.876015939111162e-07)\n",
      "delta_CBO\n",
      "ShapiroResult(statistic=0.3556603193283081, pvalue=0.0)\n",
      "ShapiroResult(statistic=0.06474292278289795, pvalue=0.0)\n",
      "ShapiroResult(statistic=0.2978222370147705, pvalue=7.006492321624085e-45)\n",
      "ShapiroResult(statistic=0.06845253705978394, pvalue=0.0)\n",
      "MannwhitneyuResult(statistic=933236.5, pvalue=1.4270100338854136e-27)\n",
      "MannwhitneyuResult(statistic=655362.5, pvalue=0.04818616060159195)\n",
      "delta_NII\n",
      "ShapiroResult(statistic=0.1584290862083435, pvalue=0.0)\n",
      "ShapiroResult(statistic=0.6224502325057983, pvalue=0.0)\n",
      "ShapiroResult(statistic=0.5423346161842346, pvalue=9.036295567974012e-39)\n",
      "ShapiroResult(statistic=0.2636789083480835, pvalue=0.0)\n",
      "MannwhitneyuResult(statistic=1003676.5, pvalue=5.078284195765014e-46)\n",
      "MannwhitneyuResult(statistic=629070.0, pvalue=0.6033486289214566)\n",
      "delta_Minor\n",
      "ShapiroResult(statistic=0.031859755516052246, pvalue=0.0)\n",
      "ShapiroResult(statistic=0.061821818351745605, pvalue=0.0)\n",
      "ShapiroResult(statistic=0.03968679904937744, pvalue=0.0)\n",
      "ShapiroResult(statistic=0.028158366680145264, pvalue=0.0)\n",
      "MannwhitneyuResult(statistic=793678.0, pvalue=0.00020136046111491089)\n",
      "MannwhitneyuResult(statistic=639905.0, pvalue=0.10336581851199111)\n",
      "delta_Major\n",
      "ShapiroResult(statistic=0.041731417179107666, pvalue=0.0)\n",
      "ShapiroResult(statistic=0.014848828315734863, pvalue=0.0)\n",
      "ShapiroResult(statistic=0.04392564296722412, pvalue=0.0)\n",
      "ShapiroResult(statistic=0.033192455768585205, pvalue=0.0)\n",
      "MannwhitneyuResult(statistic=779951.5, pvalue=0.03318415675623368)\n",
      "MannwhitneyuResult(statistic=634039.0, pvalue=0.3880203749512078)\n",
      "delta_Critical\n",
      "ShapiroResult(statistic=0.01745009422302246, pvalue=0.0)\n",
      "ShapiroResult(statistic=0.049485087394714355, pvalue=0.0)\n",
      "ShapiroResult(statistic=1.0, pvalue=1.0)\n",
      "ShapiroResult(statistic=0.013130903244018555, pvalue=0.0)\n",
      "MannwhitneyuResult(statistic=781993.5, pvalue=0.005183069263168519)\n",
      "MannwhitneyuResult(statistic=638762.5, pvalue=0.04748883877883804)\n",
      "McCC & 0.0278 & \\textbf{0.0000} & 0.41 (m) & -0.0152 & 1.0000 & -\\\\\n",
      "LLOC & 0.2439 & \\textbf{0.0000} & 0.41 (m) & -0.1364 & 1.0000 & -\\\\\n",
      "NLE & 0.0000 & \\textbf{0.0000} & 0.27 (s) & 0.0000 & 0.9103 & -\\\\\n",
      "NUMPAR & 0.0000 & \\textbf{0.0000} & 0.26 (s) & 0.0000 & \\textbf{0.0002} & 0.08 (n)\\\\\n",
      "CC & 0.0000 & 0.9934 & - & 0.0000 & \\textbf{0.0000} & 0.11 (s)\\\\\n",
      "CLOC & 0.0000 & \\textbf{0.0000} & 0.20 (s) & 0.0000 & 0.2257 & -\\\\\n",
      "CD & 0.0000 & \\textbf{0.0001} & 0.09 (n) & 0.0000 & \\textbf{0.0000} & 0.14 (s)\\\\\n",
      "AD & 0.0000 & 0.0174 & - & 0.0000 & \\textbf{0.0000} & 0.10 (n)\\\\\n",
      "NOA & 0.0000 & \\textbf{0.0000} & 0.11 (s) & 0.0000 & \\textbf{0.0000} & 0.07 (n)\\\\\n",
      "CBO & 0.0000 & \\textbf{0.0000} & 0.21 (s) & 0.0000 & 0.0482 & -\\\\\n",
      "NII & 0.0000 & \\textbf{0.0000} & 0.30 (s) & 0.0000 & 0.6033 & -\\\\\n",
      "Minor & 0.0000 & \\textbf{0.0002} & 0.03 (n) & 0.0000 & 0.1034 & -\\\\\n",
      "Major & 0.0000 & 0.0332 & - & 0.0000 & 0.3880 & -\\\\\n",
      "Critical & 0.0000 & 0.0052 & - & 0.0000 & 0.0475 & -\\\\\n",
      "\n"
     ]
    },
    {
     "name": "stderr",
     "output_type": "stream",
     "text": [
      "/srv/www/msr_replication/lib/python3.9/site-packages/scipy/stats/morestats.py:1678: UserWarning: Input data for shapiro has range zero. The results may not be accurate.\n",
      "  warnings.warn(\"Input data for shapiro has range zero. The results \"\n"
     ]
    }
   ],
   "source": [
    "print_tables_metrics(df, density=True, thresh=THRESH)"
   ]
  },
  {
   "cell_type": "code",
   "execution_count": 8,
   "metadata": {},
   "outputs": [
    {
     "name": "stdout",
     "output_type": "stream",
     "text": [
      "delta_McCC\n",
      "ShapiroResult(statistic=0.06641465425491333, pvalue=0.0)\n",
      "ShapiroResult(statistic=0.06988799571990967, pvalue=0.0)\n",
      "ShapiroResult(statistic=0.3743445873260498, pvalue=3.2510124372335756e-43)\n",
      "ShapiroResult(statistic=0.08168286085128784, pvalue=0.0)\n",
      "MannwhitneyuResult(statistic=1087681.5, pvalue=4.7319880863222145e-73)\n",
      "MannwhitneyuResult(statistic=613108.0, pvalue=0.8947611716949978)\n",
      "delta_LLOC\n",
      "ShapiroResult(statistic=0.07131439447402954, pvalue=0.0)\n",
      "ShapiroResult(statistic=0.061968863010406494, pvalue=0.0)\n",
      "ShapiroResult(statistic=0.3238440155982971, pvalue=2.382207389352189e-44)\n",
      "ShapiroResult(statistic=0.07453221082687378, pvalue=0.0)\n",
      "MannwhitneyuResult(statistic=1094659.0, pvalue=6.877331435900004e-73)\n",
      "MannwhitneyuResult(statistic=615176.5, pvalue=0.8634874475977837)\n",
      "delta_NLE\n",
      "ShapiroResult(statistic=0.07040297985076904, pvalue=0.0)\n",
      "ShapiroResult(statistic=0.06453114748001099, pvalue=0.0)\n",
      "ShapiroResult(statistic=0.3341987133026123, pvalue=3.923635700109488e-44)\n",
      "ShapiroResult(statistic=0.07490408420562744, pvalue=0.0)\n",
      "MannwhitneyuResult(statistic=982816.5, pvalue=1.003220850618854e-40)\n",
      "MannwhitneyuResult(statistic=643332.0, pvalue=0.23420159091323445)\n",
      "delta_NUMPAR\n",
      "ShapiroResult(statistic=0.0635756254196167, pvalue=0.0)\n",
      "ShapiroResult(statistic=0.08457553386688232, pvalue=0.0)\n",
      "ShapiroResult(statistic=0.3712831735610962, pvalue=2.7605579747198896e-43)\n",
      "ShapiroResult(statistic=0.09723871946334839, pvalue=0.0)\n",
      "MannwhitneyuResult(statistic=969304.0, pvalue=3.481573392627026e-36)\n",
      "MannwhitneyuResult(statistic=699065.5, pvalue=1.8114625378608956e-06)\n",
      "delta_CC\n",
      "ShapiroResult(statistic=0.038055360317230225, pvalue=0.0)\n",
      "ShapiroResult(statistic=0.05219709873199463, pvalue=0.0)\n",
      "ShapiroResult(statistic=0.1296381950378418, pvalue=0.0)\n",
      "ShapiroResult(statistic=0.06081336736679077, pvalue=0.0)\n",
      "MannwhitneyuResult(statistic=731143.0, pvalue=0.9920819012830191)\n",
      "MannwhitneyuResult(statistic=694752.5, pvalue=2.915648580836166e-05)\n",
      "delta_CLOC\n",
      "ShapiroResult(statistic=0.09182113409042358, pvalue=0.0)\n",
      "ShapiroResult(statistic=0.03776675462722778, pvalue=0.0)\n",
      "ShapiroResult(statistic=0.304221510887146, pvalue=8.407790785948902e-45)\n",
      "ShapiroResult(statistic=0.04903531074523926, pvalue=0.0)\n",
      "MannwhitneyuResult(statistic=957572.5, pvalue=2.6155211497878718e-27)\n",
      "MannwhitneyuResult(statistic=673291.0, pvalue=0.004852705756346155)\n",
      "delta_CD\n",
      "ShapiroResult(statistic=0.08488279581069946, pvalue=0.0)\n",
      "ShapiroResult(statistic=0.043094098567962646, pvalue=0.0)\n",
      "ShapiroResult(statistic=0.34749704599380493, pvalue=7.847271400218976e-44)\n",
      "ShapiroResult(statistic=0.05854165554046631, pvalue=0.0)\n",
      "MannwhitneyuResult(statistic=869142.0, pvalue=3.4741747361757227e-08)\n",
      "MannwhitneyuResult(statistic=723910.5, pvalue=1.1716871304556037e-08)\n",
      "delta_AD\n",
      "ShapiroResult(statistic=0.09322881698608398, pvalue=0.0)\n",
      "ShapiroResult(statistic=0.036540448665618896, pvalue=0.0)\n",
      "ShapiroResult(statistic=0.19261223077774048, pvalue=0.0)\n",
      "ShapiroResult(statistic=0.04897946119308472, pvalue=0.0)\n",
      "MannwhitneyuResult(statistic=806933.5, pvalue=0.009242546649282347)\n",
      "MannwhitneyuResult(statistic=694057.5, pvalue=2.4621812905049595e-06)\n",
      "delta_NOA\n",
      "ShapiroResult(statistic=0.03425389528274536, pvalue=0.0)\n",
      "ShapiroResult(statistic=0.08654868602752686, pvalue=0.0)\n",
      "ShapiroResult(statistic=0.0993947982788086, pvalue=0.0)\n",
      "ShapiroResult(statistic=0.06985241174697876, pvalue=0.0)\n",
      "MannwhitneyuResult(statistic=853138.0, pvalue=1.2349568129021887e-15)\n",
      "MannwhitneyuResult(statistic=679366.0, pvalue=2.7272257309402583e-07)\n",
      "delta_CBO\n",
      "ShapiroResult(statistic=0.045928776264190674, pvalue=0.0)\n",
      "ShapiroResult(statistic=0.0815393328666687, pvalue=0.0)\n",
      "ShapiroResult(statistic=0.2834036946296692, pvalue=2.802596928649634e-45)\n",
      "ShapiroResult(statistic=0.08736008405685425, pvalue=0.0)\n",
      "MannwhitneyuResult(statistic=933165.0, pvalue=1.4482599669148713e-27)\n",
      "MannwhitneyuResult(statistic=670835.5, pvalue=0.002469428345329804)\n",
      "delta_NII\n",
      "ShapiroResult(statistic=0.033404409885406494, pvalue=0.0)\n",
      "ShapiroResult(statistic=0.05507004261016846, pvalue=0.0)\n",
      "ShapiroResult(statistic=0.28891485929489136, pvalue=4.203895392974451e-45)\n",
      "ShapiroResult(statistic=0.05992329120635986, pvalue=0.0)\n",
      "MannwhitneyuResult(statistic=1000215.5, pvalue=9.831852945773598e-45)\n",
      "MannwhitneyuResult(statistic=652951.5, pvalue=0.08771262185860323)\n",
      "delta_Minor\n",
      "ShapiroResult(statistic=0.18831300735473633, pvalue=0.0)\n",
      "ShapiroResult(statistic=0.046073973178863525, pvalue=0.0)\n",
      "ShapiroResult(statistic=0.09466743469238281, pvalue=0.0)\n",
      "ShapiroResult(statistic=0.05216538906097412, pvalue=0.0)\n",
      "MannwhitneyuResult(statistic=793707.0, pvalue=0.00019765928456762994)\n",
      "MannwhitneyuResult(statistic=640009.5, pvalue=0.09999193632897291)\n",
      "delta_Major\n",
      "ShapiroResult(statistic=0.11129754781723022, pvalue=0.0)\n",
      "ShapiroResult(statistic=0.044147372245788574, pvalue=0.0)\n",
      "ShapiroResult(statistic=0.04793733358383179, pvalue=0.0)\n",
      "ShapiroResult(statistic=0.04704582691192627, pvalue=0.0)\n",
      "MannwhitneyuResult(statistic=780023.0, pvalue=0.03196189584068161)\n",
      "MannwhitneyuResult(statistic=634085.0, pvalue=0.3834630564492503)\n",
      "delta_Critical\n",
      "ShapiroResult(statistic=0.09847104549407959, pvalue=0.0)\n",
      "ShapiroResult(statistic=0.04673546552658081, pvalue=0.0)\n",
      "ShapiroResult(statistic=1.0, pvalue=1.0)\n",
      "ShapiroResult(statistic=0.05819356441497803, pvalue=0.0)\n",
      "MannwhitneyuResult(statistic=782019.5, pvalue=0.005082770061767569)\n",
      "MannwhitneyuResult(statistic=638762.5, pvalue=0.04748721299184165)\n",
      "McCC & 2.0000 & \\textbf{0.0000} & 0.41 (m) & -1.0000 & 0.8948 & -\\\\\n",
      "LLOC & 12.0000 & \\textbf{0.0000} & 0.42 (m) & -4.0000 & 0.8635 & -\\\\\n",
      "NLE & 0.0000 & \\textbf{0.0000} & 0.27 (s) & 0.0000 & 0.2342 & -\\\\\n",
      "NUMPAR & 0.0000 & \\textbf{0.0000} & 0.26 (s) & 0.0000 & \\textbf{0.0000} & 0.10 (s)\\\\\n",
      "CC & 0.0000 & 0.9921 & - & 0.0000 & \\textbf{0.0000} & 0.10 (n)\\\\\n",
      "CLOC & 0.0000 & \\textbf{0.0000} & 0.24 (s) & 0.0000 & 0.0049 & -\\\\\n",
      "CD & 0.0000 & \\textbf{0.0000} & 0.13 (s) & 0.0000 & \\textbf{0.0000} & 0.14 (s)\\\\\n",
      "AD & 0.0000 & 0.0092 & - & 0.0000 & \\textbf{0.0000} & 0.10 (n)\\\\\n",
      "NOA & 0.0000 & \\textbf{0.0000} & 0.10 (s) & 0.0000 & \\textbf{0.0000} & 0.07 (n)\\\\\n",
      "CBO & 0.0000 & \\textbf{0.0000} & 0.21 (s) & 0.0000 & 0.0025 & -\\\\\n",
      "NII & 0.0000 & \\textbf{0.0000} & 0.30 (s) & 0.0000 & 0.0877 & -\\\\\n",
      "Minor & 0.0000 & \\textbf{0.0002} & 0.03 (n) & 0.0000 & 0.1000 & -\\\\\n",
      "Major & 0.0000 & 0.0320 & - & 0.0000 & 0.3835 & -\\\\\n",
      "Critical & 0.0000 & 0.0051 & - & 0.0000 & 0.0475 & -\\\\\n",
      "\n"
     ]
    },
    {
     "name": "stderr",
     "output_type": "stream",
     "text": [
      "/srv/www/msr_replication/lib/python3.9/site-packages/scipy/stats/morestats.py:1678: UserWarning: Input data for shapiro has range zero. The results may not be accurate.\n",
      "  warnings.warn(\"Input data for shapiro has range zero. The results \"\n"
     ]
    }
   ],
   "source": [
    "print_tables_metrics(df, density=False, thresh=THRESH)"
   ]
  },
  {
   "cell_type": "code",
   "execution_count": 10,
   "metadata": {},
   "outputs": [
    {
     "name": "stdout",
     "output_type": "stream",
     "text": [
      "lines_added\n",
      "ShapiroResult(statistic=0.02299422025680542, pvalue=0.0)\n",
      "ShapiroResult(statistic=0.4058226943016052, pvalue=1.8342996898011855e-42)\n",
      "MannwhitneyuResult(statistic=979685.5, pvalue=1.346362194737628e-30)\n",
      "MannwhitneyuResult(statistic=711682.0, pvalue=1.4518541906516634e-06)\n",
      "lines_deleted\n",
      "ShapiroResult(statistic=0.027994394302368164, pvalue=0.0)\n",
      "ShapiroResult(statistic=0.2604149580001831, pvalue=1.401298464324817e-45)\n",
      "MannwhitneyuResult(statistic=703608.5, pvalue=0.00014394798344915957)\n",
      "MannwhitneyuResult(statistic=753027.0, pvalue=1.8528106828733566e-13)\n",
      "num_files\n",
      "ShapiroResult(statistic=0.04203706979751587, pvalue=0.0)\n",
      "ShapiroResult(statistic=0.47548872232437134, pvalue=1.120492265058767e-40)\n",
      "MannwhitneyuResult(statistic=880739.0, pvalue=6.472159739861823e-10)\n",
      "MannwhitneyuResult(statistic=724585.5, pvalue=8.524755714054932e-09)\n",
      "num_hunks\n",
      "ShapiroResult(statistic=0.11112749576568604, pvalue=0.0)\n",
      "ShapiroResult(statistic=0.4024454951286316, pvalue=1.5190075353281017e-42)\n",
      "MannwhitneyuResult(statistic=830102.5, pvalue=0.0012784668619554422)\n",
      "MannwhitneyuResult(statistic=746741.5, pvalue=2.909518054025215e-12)\n",
      "\\#lines add & 28.0 & \\textbf{0.0000} & 0.27 (s) & 13.5 & \\textbf{0.0000} & 0.12 (s)\\\\\n",
      "\\#lines del & -2.0 & \\textbf{0.0001} & 0.09 (n) & 6.0 & \\textbf{0.0000} & 0.19 (s)\\\\\n",
      "\\#files mod & 1.0 & \\textbf{0.0000} & 0.14 (s) & 0.0 & \\textbf{0.0000} & 0.14 (s)\\\\\n",
      "\\#hunks & 2.0 & 0.0013 & - & 3.0 & \\textbf{0.0000} & 0.18 (s)\\\\\n",
      "\n"
     ]
    }
   ],
   "source": [
    "print_tables_size(df, thresh=THRESH)"
   ]
  },
  {
   "cell_type": "code",
   "execution_count": 17,
   "metadata": {},
   "outputs": [
    {
     "data": {
      "image/png": "[encoded data removed]",
      "text/plain": [
       "<Figure size 216x165.6 with 1 Axes>"
      ]
     },
     "metadata": {
      "needs_background": "light"
     },
     "output_type": "display_data"
    },
    {
     "data": {
      "image/png": "[encoded data removed]",
      "text/plain": [
       "<Figure size 216x165.6 with 1 Axes>"
      ]
     },
     "metadata": {
      "needs_background": "light"
     },
     "output_type": "display_data"
    },
    {
     "data": {
      "image/png": "[encoded data removed]",
      "text/plain": [
       "<Figure size 216x165.6 with 1 Axes>"
      ]
     },
     "metadata": {
      "needs_background": "light"
     },
     "output_type": "display_data"
    },
    {
     "data": {
      "image/png": "[encoded data removed]",
      "text/plain": [
       "<Figure size 216x165.6 with 1 Axes>"
      ]
     },
     "metadata": {
      "needs_background": "light"
     },
     "output_type": "display_data"
    }
   ],
   "source": [
    "print_boxes_size(df, save=True)"
   ]
  },
  {
   "cell_type": "code",
   "execution_count": 21,
   "metadata": {},
   "outputs": [
    {
     "data": {
      "image/png": "[encoded data removed]",
      "text/plain": [
       "<Figure size 216x165.6 with 1 Axes>"
      ]
     },
     "metadata": {
      "needs_background": "light"
     },
     "output_type": "display_data"
    },
    {
     "data": {
      "image/png": "[encoded data removed]",
      "text/plain": [
       "<Figure size 216x165.6 with 1 Axes>"
      ]
     },
     "metadata": {
      "needs_background": "light"
     },
     "output_type": "display_data"
    },
    {
     "data": {
      "image/png": "[encoded data removed]",
      "text/plain": [
       "<Figure size 216x165.6 with 1 Axes>"
      ]
     },
     "metadata": {
      "needs_background": "light"
     },
     "output_type": "display_data"
    },
    {
     "data": {
      "image/png": "[encoded data removed]",
      "text/plain": [
       "<Figure size 216x165.6 with 1 Axes>"
      ]
     },
     "metadata": {
      "needs_background": "light"
     },
     "output_type": "display_data"
    },
    {
     "data": {
      "image/png": "[encoded data removed]",
      "text/plain": [
       "<Figure size 216x165.6 with 1 Axes>"
      ]
     },
     "metadata": {
      "needs_background": "light"
     },
     "output_type": "display_data"
    },
    {
     "data": {
      "image/png": "[encoded data removed]",
      "text/plain": [
       "<Figure size 216x165.6 with 1 Axes>"
      ]
     },
     "metadata": {
      "needs_background": "light"
     },
     "output_type": "display_data"
    },
    {
     "data": {
      "image/png": "[encoded data removed]",
      "text/plain": [
       "<Figure size 216x165.6 with 1 Axes>"
      ]
     },
     "metadata": {
      "needs_background": "light"
     },
     "output_type": "display_data"
    },
    {
     "data": {
      "image/png": "[encoded data removed]",
      "text/plain": [
       "<Figure size 216x165.6 with 1 Axes>"
      ]
     },
     "metadata": {
      "needs_background": "light"
     },
     "output_type": "display_data"
    },
    {
     "data": {
      "image/png": "[encoded data removed]",
      "text/plain": [
       "<Figure size 216x165.6 with 1 Axes>"
      ]
     },
     "metadata": {
      "needs_background": "light"
     },
     "output_type": "display_data"
    },
    {
     "data": {
      "image/png": "[encoded data removed]",
      "text/plain": [
       "<Figure size 216x165.6 with 1 Axes>"
      ]
     },
     "metadata": {
      "needs_background": "light"
     },
     "output_type": "display_data"
    },
    {
     "data": {
      "image/png": "[encoded data removed]",
      "text/plain": [
       "<Figure size 216x165.6 with 1 Axes>"
      ]
     },
     "metadata": {
      "needs_background": "light"
     },
     "output_type": "display_data"
    },
    {
     "data": {
      "image/png": "[encoded data removed]",
      "text/plain": [
       "<Figure size 216x165.6 with 1 Axes>"
      ]
     },
     "metadata": {
      "needs_background": "light"
     },
     "output_type": "display_data"
    },
    {
     "data": {
      "image/png": "[encoded data removed]",
      "text/plain": [
       "<Figure size 216x165.6 with 1 Axes>"
      ]
     },
     "metadata": {
      "needs_background": "light"
     },
     "output_type": "display_data"
    },
    {
     "data": {
      "image/png": "[encoded data removed]",
      "text/plain": [
       "<Figure size 216x165.6 with 1 Axes>"
      ]
     },
     "metadata": {
      "needs_background": "light"
     },
     "output_type": "display_data"
    }
   ],
   "source": [
    "print_boxes_metrics(df, density=True)"
   ]
  },
  {
   "cell_type": "code",
   "execution_count": 11,
   "metadata": {},
   "outputs": [
    {
     "data": {
      "image/png": "[encoded data removed]",
      "text/plain": [
       "<Figure size 216x165.6 with 1 Axes>"
      ]
     },
     "metadata": {
      "needs_background": "light"
     },
     "output_type": "display_data"
    },
    {
     "data": {
      "image/png": "[encoded data removed]",
      "text/plain": [
       "<Figure size 216x165.6 with 1 Axes>"
      ]
     },
     "metadata": {
      "needs_background": "light"
     },
     "output_type": "display_data"
    },
    {
     "data": {
      "image/png": "[encoded data removed]",
      "text/plain": [
       "<Figure size 216x165.6 with 1 Axes>"
      ]
     },
     "metadata": {
      "needs_background": "light"
     },
     "output_type": "display_data"
    },
    {
     "data": {
      "image/png": "[encoded data removed]",
      "text/plain": [
       "<Figure size 216x165.6 with 1 Axes>"
      ]
     },
     "metadata": {
      "needs_background": "light"
     },
     "output_type": "display_data"
    },
    {
     "data": {
      "image/png": "[encoded data removed]",
      "text/plain": [
       "<Figure size 216x165.6 with 1 Axes>"
      ]
     },
     "metadata": {
      "needs_background": "light"
     },
     "output_type": "display_data"
    },
    {
     "data": {
      "image/png": "[encoded data removed]",
      "text/plain": [
       "<Figure size 216x165.6 with 1 Axes>"
      ]
     },
     "metadata": {
      "needs_background": "light"
     },
     "output_type": "display_data"
    },
    {
     "data": {
      "image/png": "[encoded data removed]",
      "text/plain": [
       "<Figure size 216x165.6 with 1 Axes>"
      ]
     },
     "metadata": {
      "needs_background": "light"
     },
     "output_type": "display_data"
    },
    {
     "data": {
      "image/png": "[encoded data removed]",
      "text/plain": [
       "<Figure size 216x165.6 with 1 Axes>"
      ]
     },
     "metadata": {
      "needs_background": "light"
     },
     "output_type": "display_data"
    },
    {
     "data": {
      "image/png": "[encoded data removed]",
      "text/plain": [
       "<Figure size 216x165.6 with 1 Axes>"
      ]
     },
     "metadata": {
      "needs_background": "light"
     },
     "output_type": "display_data"
    },
    {
     "data": {
      "image/png": "[encoded data removed]",
      "text/plain": [
       "<Figure size 216x165.6 with 1 Axes>"
      ]
     },
     "metadata": {
      "needs_background": "light"
     },
     "output_type": "display_data"
    },
    {
     "data": {
      "image/png": "[encoded data removed]",
      "text/plain": [
       "<Figure size 216x165.6 with 1 Axes>"
      ]
     },
     "metadata": {
      "needs_background": "light"
     },
     "output_type": "display_data"
    },
    {
     "data": {
      "image/png": "[encoded data removed]",
      "text/plain": [
       "<Figure size 216x165.6 with 1 Axes>"
      ]
     },
     "metadata": {
      "needs_background": "light"
     },
     "output_type": "display_data"
    },
    {
     "data": {
      "image/png": "[encoded data removed]",
      "text/plain": [
       "<Figure size 216x165.6 with 1 Axes>"
      ]
     },
     "metadata": {
      "needs_background": "light"
     },
     "output_type": "display_data"
    },
    {
     "data": {
      "image/png": "[encoded data removed]",
      "text/plain": [
       "<Figure size 216x165.6 with 1 Axes>"
      ]
     },
     "metadata": {
      "needs_background": "light"
     },
     "output_type": "display_data"
    }
   ],
   "source": [
    "print_boxes_metrics(df, density=False)"
   ]
  }
 ],
 "metadata": {
  "kernelspec": {
   "display_name": "Python 3",
   "language": "python",
   "name": "python3"
  },
  "language_info": {
   "codemirror_mode": {
    "name": "ipython",
    "version": 3
   },
   "file_extension": ".py",
   "mimetype": "text/x-python",
   "name": "python",
   "nbconvert_exporter": "python",
   "pygments_lexer": "ipython3",
   "version": "3.9.1"
  }
 },
 "nbformat": 4,
 "nbformat_minor": 4
}
